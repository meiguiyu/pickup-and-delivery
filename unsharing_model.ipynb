{
 "cells": [
  {
   "cell_type": "code",
   "execution_count": 24,
   "metadata": {
    "collapsed": true
   },
   "outputs": [],
   "source": [
    "# coding: utf-8\n",
    "\n",
    "from pulp import *\n",
    "import numpy as np\n",
    "import pandas as pd\n",
    "import matplotlib.pyplot as plt\n",
    "from sklearn.preprocessing import StandardScaler\n",
    "# get_ipython().magic('matplotlib inline')\n",
    "import seaborn as sn\n",
    "import re"
   ]
  },
  {
   "cell_type": "code",
   "execution_count": 25,
   "metadata": {
    "collapsed": true
   },
   "outputs": [],
   "source": [
    "# generate locations of each sites\n",
    "def generate_sites(num_customer_sites):\n",
    "    sites = list(np.arange(0, num_customer_sites + 2))\n",
    "    sdtlist = []\n",
    "\n",
    "    # create distance matrix\n",
    "    d_matrix = np.zeros((len(sites), len(sites)))\n",
    "\n",
    "    # random generate points\n",
    "    np.random.seed(234)\n",
    "    positions = dict((a, (np.random.rand() - .5, np.random.rand() - .5)) for a in sites)\n",
    "    # org\n",
    "    positions[0] = (0, 0)\n",
    "    # det\n",
    "    positions[1] = (-0.1, 0.3)\n",
    "    print(positions)\n",
    "\n",
    "    # plot it\n",
    "    for s in positions:\n",
    "        p = positions[s]\n",
    "        plt.plot(p[0], p[1], 'o')\n",
    "        plt.text(p[0] + .01, p[1], s, horizontalalignment='left', verticalalignment='center')\n",
    "    plt.gca().axis('off');\n",
    "    plt.show()\n",
    "\n",
    "    # a function for computing distance between two points\n",
    "    d = lambda p1, p2: np.sqrt((p1[0] - p2[0]) ** 2 + (p1[1] - p2[1]) ** 2)\n",
    "\n",
    "    # calculate all the pairs\n",
    "    for idx1, s1 in enumerate(positions):\n",
    "        for idx2, s2 in enumerate(positions):\n",
    "            if s1 != s2:\n",
    "                d_matrix[idx1, idx2] = d(positions[s1], positions[s2])\n",
    "    # print(d_matrix)\n",
    "    for i in range(0,len(sites)):\n",
    "        sdtlist.append(d(positions[i], positions[1]))\n",
    "    return sites,d_matrix,positions,sdtlist"
   ]
  },
  {
   "cell_type": "code",
   "execution_count": 26,
   "metadata": {
    "collapsed": true
   },
   "outputs": [],
   "source": [
    "def visualize_result(non_zero_edges,sites,positions):\n",
    "    # In[488]:\n",
    "\n",
    "    def get_next_site(parent):\n",
    "        '''helper function to get the next edge'''\n",
    "        edges = [e for e in non_zero_edges if e[0]== parent]\n",
    "        # print (edges)\n",
    "#         for e in edges:\n",
    "#             non_zero_edges.remove(e)\n",
    "        return edges\n",
    "\n",
    "    tours = get_next_site(0)\n",
    "    # print (tours)\n",
    "    tours = [ [e] for e in tours ]\n",
    "    n = 1\n",
    "    for t in tours:\n",
    "        while n < len(sites)-1:\n",
    "            if t[-1][1] != 0:\n",
    "                # print (t[-1][1])\n",
    "                t.append(get_next_site(t[-1][1])[-1])\n",
    "                n +=1\n",
    "\n",
    "\n",
    "    # Print he optimal tours:\n",
    "    for t in tours:\n",
    "        print(' -> '.join([ str(a) for a,b in t]+['1']))\n",
    "\n",
    "    #draw the tours\n",
    "    colors = [np.random.rand(3) for i in range(len(tours))]\n",
    "    for t,c in zip(tours,colors):\n",
    "        for a,b in t:\n",
    "            p1,p2 = positions[a], positions[b]\n",
    "            plt.plot([p1[0],p2[0]],[p1[1],p2[1]], color=c)\n",
    "\n",
    "    #draw the map again\n",
    "    for s in positions:\n",
    "        p = positions[s]\n",
    "        plt.plot(p[0],p[1],'o')\n",
    "        plt.text(p[0]+.01,p[1],s,horizontalalignment='left',verticalalignment='center')\n",
    "\n",
    "    plt.gca().axis('off');\n",
    "    plt.show()\n",
    "\n",
    "#     return tours"
   ]
  },
  {
   "cell_type": "code",
   "execution_count": 27,
   "metadata": {
    "collapsed": true
   },
   "outputs": [],
   "source": [
    "def get_tours(non_zero_edges,sites,t_matrix):\n",
    "    totaltime = []\n",
    "    def get_next_site(parent):\n",
    "        '''helper function to get the next edge'''\n",
    "        edges = [e for e in non_zero_edges if e[0] == parent]\n",
    "        # print (edges)\n",
    "        # for e in edges:\n",
    "        #     non_zero_edges.remove(e)\n",
    "        return edges\n",
    "\n",
    "    tours = get_next_site(0)\n",
    "    # print (tours)\n",
    "    tours = [[e] for e in tours]\n",
    "    n = 1\n",
    "    for t in tours:\n",
    "        while n < len(sites) - 1:\n",
    "            if t[-1][1] != 0:\n",
    "                # print (t[-1][1])\n",
    "                t.append(get_next_site(t[-1][1])[-1])\n",
    "                n += 1\n",
    "    return tours"
   ]
  },
  {
   "cell_type": "code",
   "execution_count": 28,
   "metadata": {
    "collapsed": false
   },
   "outputs": [
    {
     "name": "stdout",
     "output_type": "stream",
     "text": [
      "{0: (0, 0), 1: (-0.1, 0.3), 2: (-0.25338022411111727, 0.19880741427740167), 3: (0.36642931919633603, 0.13952184711093762), 4: (-0.04315635161570486, -0.0012052480865952786), 5: (0.22047500693227895, -0.22874681031161803), 6: (0.3006190314201338, 0.009252675036787728)}\n"
     ]
    },
    {
     "data": {
      "image/png": "[encoded data removed]",
      "text/plain": [
       "<matplotlib.figure.Figure at 0x27238017208>"
      ]
     },
     "metadata": {},
     "output_type": "display_data"
    }
   ],
   "source": [
    "num_customer_sites = 5\n",
    "K = 1  # the number of sales people(cars)\n",
    "dist = 0\n",
    "avgtime = 0\n",
    "staytime = 1\n",
    "M = 99999\n",
    "speed = 0.05\n",
    "sdtime = []\n",
    "# geneate sites\n",
    "sites, d_matrix, positions,sdtlist = generate_sites(num_customer_sites)\n",
    "for a in range(2,len(sdtlist)):\n",
    "    sdtime.append(sdtlist[a]/speed)\n",
    "standardized_d_matrix = StandardScaler().fit_transform(d_matrix)\n",
    "# compare all the feasilbe solution to find the one that minimize the whole objective function\n",
    "\n",
    "t_matrix = d_matrix/speed\n",
    "avg_t_matrix = t_matrix.mean()\n",
    "std_t_matrix = t_matrix.std()\n",
    "standardized_t_matrix = StandardScaler().fit_transform(t_matrix)\n",
    "#generate indices for distance matrix\n",
    "X,Y = np.meshgrid( np.arange(len(sites)), np.arange(len(sites)) )\n",
    "matrix_coordinate_list = []\n",
    "for coor in zip(X.flatten(),Y.flatten()):\n",
    "    matrix_coordinate_list.append(coor)"
   ]
  },
  {
   "cell_type": "code",
   "execution_count": 29,
   "metadata": {
    "collapsed": true
   },
   "outputs": [],
   "source": [
    "#create the problme\n",
    "prob=LpProblem(\"transpotation\",LpMinimize)\n",
    "\n",
    "#indicator variable if site i is connected to site j in the tour\n",
    "x = LpVariable.dicts('x', (sites,sites), 0, 1, LpBinary)\n",
    "#dummy vars to eliminate subtours\n",
    "z = LpVariable.dicts('z', sites, 0, num_customer_sites, LpInteger)\n",
    "\n",
    "s = LpVariable.dicts('s', sites, 0, None , LpContinuous)\n",
    "s[0]=-0.3\n",
    "u = LpVariable('u', 0, None, LpContinuous)\n",
    "\n",
    "dist = sum([x[r][c] * standardized_d_matrix[r, c] for (r, c) in matrix_coordinate_list])\n",
    "avgtime =  sum([s[1] - s[i] for i in range(0,len(s))])/num_customer_sites\n",
    "\n",
    "#the objective\n",
    "alpha = 0.5\n",
    "beta = 0.5\n",
    "gamma = 0.5\n",
    "cost = lpSum(alpha*dist + beta*avgtime + gamma*u)\n",
    "prob += cost\n",
    "\n",
    "#add constraints\n",
    "for (r,c) in matrix_coordinate_list:\n",
    "    # (1) depot to destination or destination to depot is not allowed\n",
    "    if (r == 0 and c == 1) or (r == 1 and c == 0):\n",
    "        prob += (  lpSum([  x[r][c] ] ) == 0 )\n",
    "    # (9) if A to B is visited, B to A is not allowed to be visited\n",
    "    elif r != c :\n",
    "        prob += ( lpSum( [ x[r][c] + x[c][r] ] ) <= 1 )\n",
    "#\n",
    "# (2) the diagonal value of x matrix is 0\n",
    "prob += lpSum([ x[r][c] for (r,c) in matrix_coordinate_list if r==c ]) == 0\n",
    "#\n",
    "# (3) destination to other pickup nodes are not allowed\n",
    "prob += lpSum([ x[r][c] for (r,c) in matrix_coordinate_list if r==1 ]) == 0\n",
    "#\n",
    "# (4) only one pickup node to destination is allowed\n",
    "prob += lpSum([ x[r][c]  for (r,c) in matrix_coordinate_list if c== 1 and r != 0 and r!= 1 ]) == 1\n",
    "#\n",
    "# (5) pickup nodes to depot is not allowed\n",
    "prob += lpSum([ x[r][c] for (r,c) in matrix_coordinate_list if c==0 ]) == 0\n",
    "#\n",
    "# (7) each node can be visited only once\n",
    "for i in range(2, len(sites)):\n",
    "    prob += lpSum([ x[r][c] for (r,c) in matrix_coordinate_list if r== i ]) == 1\n",
    "#\n",
    "# (6) each node can be visited only once\n",
    "for i in range(2,len(sites)):\n",
    "    prob += lpSum([ x[r][c] for (r,c) in matrix_coordinate_list if c== i  ]) == 1\n",
    "\n",
    "# (8) subtour elimination\n",
    "N=len(sites)/K\n",
    "for i in sites:\n",
    "    for j in sites:\n",
    "        if i != j and (i != 0 and j!= 0 and i != 1 and j!= 1) and (i,j) in matrix_coordinate_list:\n",
    "            prob += z[i] - z[j] <= (N)*(1-x[i][j]) - 1\n",
    "\n",
    "# (9) start time is set correctly along the path\n",
    "for (r, c) in matrix_coordinate_list:\n",
    "    prob += s[c] - s[r] - standardized_t_matrix[r,c] + M*(1 - x[r][c])>= staytime\n",
    "\n",
    "# (10) u constraint, the maximum difference between self-driving time and shuttle time\n",
    "for i in range(2,len(sites)):\n",
    "    prob += u + s[i] + sdtlist[i-2] - s[1]>= 0"
   ]
  },
  {
   "cell_type": "code",
   "execution_count": 30,
   "metadata": {
    "collapsed": false
   },
   "outputs": [
    {
     "name": "stdout",
     "output_type": "stream",
     "text": [
      "Optimal\n",
      "1.93550692742\n",
      "The non zero edges are: \n",
      "[(2, 1), (4, 2), (0, 3), (5, 4), (6, 5), (3, 6)]\n",
      "The optimal distance is:  1.61134530458\n",
      "The start time at each node is:  [7.8418567135070294, 10.760832641470193, 15.783454255217974, 22.748413860259756, 28.551831531697911]\n"
     ]
    }
   ],
   "source": [
    "# The problem data is written to an .lp file\n",
    "# prob.writeLP(\"ovoc_nopdpd.lp\")\n",
    "result = prob.solve()\n",
    "print(LpStatus[prob.status])\n",
    "\n",
    "# # print solution\n",
    "print(value(prob.objective))\n",
    "# for v in prob.variables():\n",
    "#     print(v.name, \"=\", v.varValue)\n",
    "\n",
    "non_zero_edges = [ e for e in matrix_coordinate_list if value(x[e[0]][e[1]]) != 0 ]\n",
    "print(\"The non zero edges are: \")\n",
    "print (non_zero_edges)\n",
    "\n",
    "totaltime = []\n",
    "starttime = []\n",
    "totaldist = 0\n",
    "for a,b in non_zero_edges:\n",
    "    totaldist += d_matrix[a,b]\n",
    "optroute = get_tours(non_zero_edges, sites,t_matrix)\n",
    "for t in optroute:\n",
    "    for c,d in t:\n",
    "        totaltime.append(t_matrix[c,d])\n",
    "for i in range(1,len(totaltime))  :\n",
    "    starttime.append(sum(totaltime[0:i]))\n",
    "\n",
    "print(\"The optimal distance is: \" ,totaldist)\n",
    "print(\"The start time at each node is: \",starttime)"
   ]
  },
  {
   "cell_type": "code",
   "execution_count": 31,
   "metadata": {
    "collapsed": false
   },
   "outputs": [
    {
     "name": "stdout",
     "output_type": "stream",
     "text": [
      "0 -> 3 -> 6 -> 5 -> 4 -> 2 -> 1\n"
     ]
    },
    {
     "data": {
      "image/png": "[encoded data removed]",
      "text/plain": [
       "<matplotlib.figure.Figure at 0x27237a7e908>"
      ]
     },
     "metadata": {},
     "output_type": "display_data"
    }
   ],
   "source": [
    "# see the result\n",
    "visualize_result(non_zero_edges, sites, positions)"
   ]
  }
 ],
 "metadata": {
  "kernelspec": {
   "display_name": "Python [default]",
   "language": "python",
   "name": "python3"
  },
  "language_info": {
   "codemirror_mode": {
    "name": "ipython",
    "version": 3
   },
   "file_extension": ".py",
   "mimetype": "text/x-python",
   "name": "python",
   "nbconvert_exporter": "python",
   "pygments_lexer": "ipython3",
   "version": "3.5.2"
  }
 },
 "nbformat": 4,
 "nbformat_minor": 1
}
